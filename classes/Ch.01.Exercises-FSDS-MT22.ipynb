{
 "cells": [
  {
   "cell_type": "markdown",
   "id": "0f94b4d7-69b5-442b-a9e6-c6653fcb5aa3",
   "metadata": {},
   "source": [
    "# Fundamentals of Social Data Science \n",
    "\n",
    "Week 1. Day 1. Exercises from Chapter 1 of FSStDS \n",
    "\n",
    "Within your week 1 study pod discuss the following questions. Please submit an individual assignment by 12:30pm tomorrow, Tuesday October 11, 2022 on Canvas. \n",
    "\n",
    "These will not be marked and are solely for recordkeeping and review upon request. They will, however, be discussed in the Tuesday tutorial and briefing."
   ]
  },
  {
   "cell_type": "markdown",
   "id": "e2363fdd-b065-41b1-a4ab-7149223869c5",
   "metadata": {},
   "source": [
    "# Exercise 1. Data as operationalisation \n",
    "\n",
    "In the book we talk about data as being measurements from the world. The measurements represent phenomena but are not the phenomena themselves. To this end, we think of social data science as a 'science of the operationalisation of the social world'. Below are several key concepts about the world that we can operationalise in a variety of ways. For each of the concepts think of: \n",
    "1. A way that you can measure this concept in a survey. Is there a scale that people have used? Has this been mentioned in an academic paper? \n",
    "2. A question that you can ask someone in order to get a more indepth response about the topic.\n",
    "3. A set of data from a social media platform that might strongly predict with the measure, either directly or indirectly. Do you think that you could collect this data just by browsing or would you need to access this data in a more structured form?\n",
    "\n",
    "\n",
    "| Topic                      | Survey Q. | Interview Q. | Trace data |\n",
    "|----------------------------|-----------|--------------|------------|\n",
    "| 1. Number of close friends |           |              |            |\n",
    "| 2. Political affiliation   |           |              |            |\n",
    "| 3. Preferred social media  |           |              |            |\n",
    "\n"
   ]
  },
  {
   "cell_type": "markdown",
   "id": "9a69a33c-df9c-4221-af0c-2d469e4339a4",
   "metadata": {},
   "source": [
    "## Answer 1.\n",
    "\n",
    "Please fill in the table, either in the markdown or below just in text. \n",
    "\n",
    "As an optional challenge, think about looking online for sources where people have done any of these. Can you find at least one academic paper for each of the nine cells? \n",
    "\n",
    "__Answer below here:__ \n",
    "1. Number of close friends (as a survey Q, interview Q, and as trace data):\n",
    "- Survey: \"Name all your close friends:\", \"How often have you seen X in the last 6 months\"\n",
    "    - Should you standardise the definition of close friends?\n",
    "- Interview: \"What is a close friend to you? Name your close friends?\"\n",
    "- Trace: Number of people co-tagged more than x times on BeReal (publicly accessible for many profiles), Mutual friends (Facebook) or reciprocal following (Instagram, Twitter)\n",
    "\n",
    "2. Political affiliation (as a survey Q, interview Q, and as trace data):\n",
    "- Survey: What party did you vote for in the last X election(s)? Who are you considering voting for in the next election? Classical likert-style survey\n",
    "- Interview: How much do you relate to the party you voted for in the last election?\n",
    "- Trace: Look at retweet behavior on Twitter (easily accessible + people are more likely to retweet things they agree with), which facebook pages do they positively react to.\n",
    "\n",
    "3. Preferred social media (as a survey Q, interview Q, and as trace data):\n",
    "- Survey: What is your preferred social media?\n",
    "- Interview: What is your preferred social media? Why? What qualities do you like in a social media.\n",
    "- Trace: Time spent (but it might reflect addictiveness more than preference), \"positive\" activity (e.g. likes or reactions)\n",
    "\n",
    "__Answer above here__"
   ]
  },
  {
   "cell_type": "markdown",
   "id": "6a1dee95-063d-4897-b610-88b8728ad320",
   "metadata": {},
   "source": [
    "# Exercise 2. FREE coding \n",
    "\n",
    "Take the following function and try to find a way to refactor it so that it can:\n",
    "1. [Be functioning] Give the right output with the right input (find the bug), \n",
    "2. [Be robust] Give a missing value with the wrong input (what if we sent it a number?), \n",
    "3. [Be elegant] Have less repetition (can we simply the `elif` statements)?, \n",
    "4. [Be efficient] Use a more efficient algorithm (did the last line take care of all the inefficiencies?)\n",
    "\n",
    "*Challenge*: The function takes a string and returns only vowels. That means `\"y\"` is an edge case. What will you do with it? The most sophisticated NLP packages might know which `\"y\"` is a vowel. Do we need to go that far? Can we warn people or somehow use a parameter for an option to include or exclude `\"y\"`?"
   ]
  },
  {
   "cell_type": "code",
   "execution_count": 5,
   "id": "bab7acdc-1f7e-4708-8d99-cc1ca0ff1bc3",
   "metadata": {},
   "outputs": [
    {
     "name": "stdout",
     "output_type": "stream",
     "text": [
      "The quick brown fox jumped over the lazy dog\n",
      "It was the best of times, it was the blurst of times.\n",
      "A stitch in time saves 9\n",
      "CPU times: total: 438 ms\n",
      "Wall time: 560 ms\n"
     ]
    }
   ],
   "source": [
    "%%time\n",
    "\n",
    "def return_only_vowels(text):\n",
    "    newtext = \"\"\n",
    "    for letter in text: \n",
    "        if letter == 'a':\n",
    "            newtext += letter\n",
    "        elif letter == 'e':\n",
    "            newtext += letter\n",
    "        elif letter == 'i':\n",
    "            newtext += letter\n",
    "        elif letter == 'o':\n",
    "            newtext += letter\n",
    "        elif letter == 'u':\n",
    "            newtext += letter\n",
    "        \n",
    "    return text\n",
    "\n",
    "text1 = \"The quick brown fox jumped over the lazy dog\"\n",
    "text2 = \"It was the best of times, it was the blurst of times.\"\n",
    "text3 = \"A stitch in time saves 9\"\n",
    "\n",
    "for i in range(10000):\n",
    "    result_list = []\n",
    "    for text in [text1, text2, text3]:\n",
    "        result_list.append(return_only_vowels(text))\n",
    "\n",
    "for result in result_list: \n",
    "    print(result)"
   ]
  },
  {
   "cell_type": "markdown",
   "id": "9560e31f-b00f-4130-a52a-fdad242d30c1",
   "metadata": {},
   "source": [
    "## Answer 2. \n",
    "\n",
    "Below try to rewrite the function and the inputs so that it runs faster, returns the right text, handles bad input gracefully, and reads a little better: "
   ]
  },
  {
   "cell_type": "code",
   "execution_count": 2,
   "id": "2752d838-de79-48c9-8af3-7d648eaba757",
   "metadata": {},
   "outputs": [
    {
     "name": "stderr",
     "output_type": "stream",
     "text": [
      "UsageError: Line magic function `%%timeit` not found.\n"
     ]
    }
   ],
   "source": [
    "%%time\n",
    "from typing import Optional\n",
    "\n",
    "def return_only_vowels(text: str) -> Optional[str]:\n",
    "    if not isinstance(text, str):\n",
    "        return None\n",
    "    return \"\".join([letter for letter in text.lower() if letter in 'aeiouæøå']) \n",
    "\n",
    "\n",
    "text1 = \"The quick brown fox jumped over the lazy dog\"\n",
    "text2 = \"It was the best of times, it was the blurst of times.\"\n",
    "text3 = \"A stitch in time saves 9\"\n",
    "notatext = 123\n",
    "\n",
    "# The rest us up to you! \n",
    "for i in range(10000):\n",
    "    result_list = [return_only_vowels(text) for text in [text1, text2, text3, notatext ]]\n",
    "for result in result_list: \n",
    "    print(result)"
   ]
  },
  {
   "cell_type": "markdown",
   "id": "ab98124f-b376-4771-82ae-0f276a0a4aaf",
   "metadata": {},
   "source": [
    "# Exercise 3. Pseudocode\n",
    "\n",
    "Pseudocode a recipe for making a pizza! It should have a dough base, a sauce, and two toppings. No worries about making it more complicated even if a great pizza can be an art. \n",
    "\n",
    "Some questions: \n",
    "1. Will you ask the user for what toppings they want?\n",
    "2. What assumptions will you make about the ingredients? That is, will you assume they are already cooked or otherwise prepared? \n",
    "3. What assumptions will you make about the pizza oven? "
   ]
  },
  {
   "cell_type": "markdown",
   "id": "625a38a4-ea7b-4559-a67a-411b1431a872",
   "metadata": {},
   "source": [
    "## Answer 3. \n",
    "\n",
    "Below write the pseudocode. Share it with a friend of yours and ask: do you think they would make the same pizza as you with these instructions? What might vary? \n",
    "\n",
    "__Answer below here__: \n",
    "```\n",
    "1. Create a list of available toppings \n",
    "2. Create a list of available styles (Bianca and rosso)\n",
    "3. Ask the user to pick a base\n",
    "4. Ask the user to pick up to two valid toppings (in a while loop)\n",
    "5. Turn on the oven at 250*C (async def)\n",
    "5. Roll out the dough\n",
    "6. Add the sauce (to the dough)\n",
    "7. Add the cheese\n",
    "8. Add the toppings (for loop)\n",
    "9. Put in the oven for 10 minutes\n",
    "10. Turn the pizza around\n",
    "11. Bake until done (while loop)\n",
    "```\n",
    "...\n",
    "\n",
    "__Answer above here__"
   ]
  },
  {
   "cell_type": "markdown",
   "id": "4f475de2-168b-4c65-8d34-a5a082f42f5f",
   "metadata": {},
   "source": [
    "# Exercise 4. What data is available for whom? \n",
    "\n",
    "Jeremy Singer-Vine has been compiling a list of really interesting data sets for several years. He shares these via his mailing list \"data is plural\". The most recent version of this list is available [here on Google Sheets](https://docs.google.com/spreadsheets/d/1wZhPLMCHKJvwOkP4juclhjFgqIY8fQFMemwKL2c64vk/edit#gid=0). \n",
    "\n",
    "Browse through this list of data sets. Below are some questions to ask of any given row signifying a data set:\n",
    "\n",
    "A. By viewing the summary of the data, give an example of a distribution that could be stored and summarised.\n",
    "\n",
    "B. With this data, what is excluded? \n",
    "  - Would certain cases or classes of people/things be excluded that could be considered? \n",
    "  - Would other data about the existing cases could be useful or interesting? \n",
    "  - Could we merge in data to compensate or would we need to do a separate data collection effort?\n",
    "  - Would accessing this data be ethically reasonable for academic research?"
   ]
  },
  {
   "cell_type": "markdown",
   "id": "d44571bc-6f94-431c-812b-6dd1e22fd95e",
   "metadata": {},
   "source": [
    "## Answer 4. \n",
    "\n",
    "Please select a data set and answer the questions above. \n",
    "\n",
    "__Answer below here__:\n",
    "\n",
    "I have chosen the Kickstarter data from [werobot.io](https://webrobots.io/kickstarter-datasets/). The company does a monthly scrape of data and metadata on all kickstarter projects. \n",
    "\n",
    "### A: Summary of the data\n",
    "There are a bunch of columns in this dataset from timestamps, campaign-information, and funding. The nature of the summary of course depend on the column and datatype: timestamps would afford summaries like average frequency and periodic patterns (i.e. seasonality), whereas the numeric ones (like funding amount and number of backers) would afford more classical summary statistics.\n",
    "\n",
    "\n",
    "### B: What is excluded? \n",
    "- Would certain cases or classes of people/things be excluded that could be considered? \n",
    "    - Kickstarter has a quite [restricted user base](https://help.kickstarter.com/hc/en-us/articles/115005128594-Who-can-use-Kickstarter-). Only people above the age of 18 with a bank account in a relatively narrow set of countries predominately in Europe and North America can create campaigns. This excludes the whole of the Global South as well as less priveleged individuals from the included countries. Furthermore, the dataset only contains information specifically on the kickstarter website. \n",
    "- Would other data about the existing cases could be useful or interesting? \n",
    "    - Kickstarter projects are largely driven by hype (CITATION MISSING but probably true). Therefore it would be highly relevant to investigate how the projects are talked about on social media, in the classical media, or if any specific advertisement campaigns are undertaken. \n",
    "- Could we merge in data to compensate or would we need to do a separate data collection effort?\n",
    "    - Getting media data would probably require a separate data collection efforts as it relies on different sources (like Twitter and Reuters). This would also drastically increase the complexity of the data as linking the datasets could be tricky - especially if the projects are only mentioned and not explicitly linked. Some kind of [named entity recognition](https://en.wikipedia.org/wiki/Named-entity_recognition) pipeline could probably be set up, but this would be a lot of work. \n",
    "- Would accessing this data be ethically reasonable for academic research?\n",
    "    - Webrobot state in their [terms and conditions](https://webrobots.io/terms-and-conditions/) that the datasets are provided as is. Given that the datasets are publicly accessible there should be no major ethical issues with analysing the data. \n",
    "\n",
    "...\n",
    "\n",
    "__Answer above here__"
   ]
  }
 ],
 "metadata": {
  "kernelspec": {
   "display_name": "Python 3.9.7 ('waldo')",
   "language": "python",
   "name": "python3"
  },
  "language_info": {
   "codemirror_mode": {
    "name": "ipython",
    "version": 3
   },
   "file_extension": ".py",
   "mimetype": "text/x-python",
   "name": "python",
   "nbconvert_exporter": "python",
   "pygments_lexer": "ipython3",
   "version": "3.9.7"
  },
  "vscode": {
   "interpreter": {
    "hash": "3728cfcf275f18009e83b3c060135d2ac0dcb2409e2f4caa1bbd460837734472"
   }
  }
 },
 "nbformat": 4,
 "nbformat_minor": 5
}
