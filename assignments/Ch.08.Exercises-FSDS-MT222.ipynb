{
 "cells": [
  {
   "cell_type": "markdown",
   "id": "911e631a-74e8-44d7-861b-5686cf7941d3",
   "metadata": {
    "tags": []
   },
   "source": [
    "# Week 3. Day 2. Exercises from Chapter 8 of FSStDS. \n",
    "## Fundamentals of Social Data Science. MT 2022\n",
    "\n",
    "Within your study pod discuss the following questions. Please submit an individual assignment by 12:30pm Wednesday, October 26, 2022 on Canvas. "
   ]
  },
  {
   "cell_type": "markdown",
   "id": "cfac9622-decb-4b13-b784-db6f94834c26",
   "metadata": {},
   "source": [
    "# Exercise 1. Inductive, deductive, and abductive questions\n",
    "\n",
    "Let's practice thinking about moving from theory to observation and back again. For the first question I'll be setting the topic (and the relationship within) and then you should posit some inductive intuition about the topic as well as some research questions. \n",
    "\n",
    "The topic is: Social media use and mental health \n",
    "\n",
    "One useful resource for this topic is: https://docs.google.com/document/d/1w-HOfseF2wF9YIpXwUUtP65-olnkPyWcgF5BiAtBEy0/edit which is a collaboratively edited Google Doc by Jonathan Haidt and Jean Twenge. \n",
    "\n",
    "\n",
    "**Part 1.1.** What's an intuition about these topics? Where might you draw your intuition (from the research or your own experience, or both!) \n",
    "\n",
    "**Part 1.2a.** Posit a question about this topic that can be answered inductively, that is from data to theory. \n",
    "\n",
    "**Part 1.2b.** Posit a question about this topic that can be answered deductively, that is from theory to data."
   ]
  },
  {
   "cell_type": "markdown",
   "id": "8f37c4cb-7975-41ca-9d25-303ea1c29c1e",
   "metadata": {},
   "source": [
    "## Part 1. The intuition \n",
    "\n",
    "From my - very casual - browsing of social media it seems as if mental health struggles have been somewhat normalised over the last couple of years. This has lead some celebrities to become more open about their struggles. At the same time, this has also lead to speculations about the conditions of some \"closeted\" celebrities (particularly, Kanye West). It might be interesting to figure out whether one could figure out what social media behaviors explains / predicts \"coming out\" about mental health struggles.\n",
    "*************"
   ]
  },
  {
   "cell_type": "markdown",
   "id": "0ee6e047-7717-43be-a967-e7b54c976f7f",
   "metadata": {},
   "source": [
    "## Step 2. The inductive question\n",
    "\n",
    "My question would be: \"How long before a celebrity comes out with mental health struggles can you predict the coming out?\". This would plausibly need to be narrowed in scope to account for different behaviors for differenting diagnoses (i.e. a bipolar individual might act differently from a depressed one). There is also a tradeoff between amount of data and specificity.\n",
    "*************"
   ]
  },
  {
   "cell_type": "markdown",
   "id": "1fe2f218-6a4b-4653-a72a-864b14d6ddc1",
   "metadata": {},
   "source": [
    "## Step 3. The deductive question \n",
    "\n",
    "One question could be \"To what extent does posting frequency explain coming out about a mental illness?\". This builds on my abductive sense-making as well as conversations with researchers within this area. Posting frequency would ideally be operationalised in different ways (e.g. changes in posting frequency, absolute amount, pause durations etc.)\n",
    "*************"
   ]
  },
  {
   "cell_type": "markdown",
   "id": "3f3b2afa-0210-4f4c-b02d-51c7e3508beb",
   "metadata": {},
   "source": [
    "# Exercise 2. (for FSDS) No! Not the thesis! \n",
    "\n",
    "The thesis is one third of the degree. It's not a culmination of your work, but one extended piece of research among the others. But in addition to the thesis, you'll have to do work with a research question in Applied Analytical Statistics and both your option courses (most likely). Let's take this opportunity to practice some research questions you might use in these cases.\n",
    "\n",
    "In steps: \n",
    "**Part 1.** Describe a phenomenon that you have an intuition about. It might be an experience online or in person, describing an event, a practice, or a set of regular customs or features language. It might be a sense about one's position in the network of information, or how things unfold over time. \n",
    "\n",
    "**Part 2a.** Think about a research question that could help you focus on how to _predict_ that phenomenon. Imagine this is work at the scale of a 5k research paper. \n",
    "\n",
    "**Part 2b.** Think about a research question that could help you focus on how to _explain_ that phenomenon. Imagine this is work at the scale of a 5k research paper. \n",
    "\n",
    "**Part 3.** Reflect on the difference between a 5k and a 10k research paper. This is roughly equivalent to a difference of 10 pages single spaced 12pt font and 20-25 pages. What would you include in the 10k that you wouldn't include in the 5k; more variables? more coverage? prediction AND explanation? dianostics? "
   ]
  },
  {
   "cell_type": "markdown",
   "id": "0e1f9414-dbe8-41f8-bb1c-9256d73ae23d",
   "metadata": {},
   "source": [
    "## Part 2.1. Describe a phenomenon and your intuition about it\n",
    "\n",
    "From reading Zuboff's excellent \"The Age of Surveillance Capitalism\" it seems like the dot-com crash and other factors has driven many big tech companies to violate the autonomy of users in search for profits. This has plausibly changed their motivations for building recommender systems from creating happy users to creating profitable users (i.e. users who spend much time on their sites). This is corroborated by my own experiences of being bombarded with specific types of YouTube videos after watching one of it + the experience of doom-scrolling facebook / reddit.\n",
    "*************"
   ]
  },
  {
   "cell_type": "markdown",
   "id": "6f06c253-2b03-49e4-ad83-77fb1f2044f7",
   "metadata": {},
   "source": [
    "## Part 2.2a. A prediction-oriented research question for a 5k paper\n",
    "\n",
    "One question could be: \"Can you predict company performance from user behavior?\". I.e. does how long users tend to spend on a site, how much they follow recommendations etc. predict how well the company does financially? This doesn't quite explain the _mechanism_ that I hinted at in the previous question; people could still be happy with the services and just voluntarily spend a lot of time on the platforms (even when considering the health implications).\n",
    "\n",
    "For a 5k paper, it would be crucial to consider a wide array of different predictors and perhaps also scopes of the model (i.e. monthly versus quaterly performance). \n",
    "*************"
   ]
  },
  {
   "cell_type": "markdown",
   "id": "31d4f48f-31cf-4a80-b1d2-e97f31d2028f",
   "metadata": {},
   "source": [
    "## Part 2.2b. An explanation-oriented research question for a 5k paper\n",
    "\n",
    "My main question would be: \"Have recommender systems at Tech Companies gotten _more_ coercive over time?\". Coerciveness could be operationalised as having a high _barrier to exit_-score as defined by [Rakova & Chowdhury (2019)](https://arxiv.org/pdf/1909.06713.pdf). Given the scope of the paper it might make sense to focus on one particular company with publicly available data (like Netflix). Netflix would be particularly suitable as their (in)famous recommender dataset spans the critical period of the dot-com crash.\n",
    "*************"
   ]
  },
  {
   "cell_type": "markdown",
   "id": "23635dbf-c64c-45d7-9415-48eaef8b76a8",
   "metadata": {},
   "source": [
    "## Part 2.3. The difference 5k makes\n",
    "\n",
    "Firstly, it is relevant to reflect on what _doesn't_ change. I suspect that the theory section is much the same - the same theories should ideally apply in both cases, though you might want to expand the \"previous work\" section slightly. What I think makes the biggest difference is the scope of the analysis. With an additional 5k words, you can easily have the space to do more comparative analyses (of different companies for instance). You can also do more thorough robustness-checks of the findings, i.e. by including different types of models, or comparing different type periods or modelling decisions. You can also afford to expand the discussion section and consider more different perspectives and implications of your research. \n",
    "\n",
    "Summa summarum, 5k makes expands the scope of the paper both analytically and theoretically by allowing you to consider wider range of contexts and choices.\n",
    "*************"
   ]
  }
 ],
 "metadata": {
  "kernelspec": {
   "display_name": "Python 3.9.7 ('waldo')",
   "language": "python",
   "name": "python3"
  },
  "language_info": {
   "codemirror_mode": {
    "name": "ipython",
    "version": 3
   },
   "file_extension": ".py",
   "mimetype": "text/x-python",
   "name": "python",
   "nbconvert_exporter": "python",
   "pygments_lexer": "ipython3",
   "version": "3.9.7"
  },
  "toc-autonumbering": false,
  "vscode": {
   "interpreter": {
    "hash": "3728cfcf275f18009e83b3c060135d2ac0dcb2409e2f4caa1bbd460837734472"
   }
  }
 },
 "nbformat": 4,
 "nbformat_minor": 5
}
