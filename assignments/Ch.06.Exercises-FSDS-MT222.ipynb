{
 "cells": [
  {
   "cell_type": "markdown",
   "id": "911e631a-74e8-44d7-861b-5686cf7941d3",
   "metadata": {
    "tags": []
   },
   "source": [
    "# Week 2. Day 3. Exercises from Chapter 5 of FSStDS. \n",
    "## Fundamentals of Social Data Science. MT 2022\n",
    "\n",
    "Within your study pod discuss the following questions. Please submit an individual assignment by 12:30pm Monday, October 24, 2022 on Canvas. "
   ]
  },
  {
   "cell_type": "markdown",
   "id": "5e437529-bc56-48bc-a6bc-9875809c71e6",
   "metadata": {},
   "source": [
    "# Exercise - build your own Reddit crawler\n",
    "\n",
    "Reddit is a vast resource of community forums as a viable site for a large amount of research in computational social science. Some of that research involves interacting with the Reddit platform. We will not be doing much of that. However, we can still do a vast amount simply by requesting data from the site and analysing it. \n",
    "\n",
    "In this exercise you will have to be clear about how you want to optimise something for specificity or generality. More general might work at different time periods, different subreddits or users. More specific might be focusing or accounting for features within a specific subreddit or community. \n",
    "\n",
    "We cannot do everything in this crawler so it is better to pick a specific task and then test that under a number of circumstances than it is to make it too general.  "
   ]
  },
  {
   "cell_type": "markdown",
   "id": "fdb16159-05da-4e55-976f-3da6cee1b3b7",
   "metadata": {},
   "source": [
    "Rubric: \n",
    "    \n",
    "This exercise will be in three parts. \n",
    "- **Part 1.** The setup [10pts]. The example below gives a sense of this. You should be able to articulate a very simple research question, an operationalisation of the concepts, a detail of the unit of analysis, the variables of interest, and challenges. This should not be overly involved - see the example below is rather terse (though I suspect you could do better). Including literature helps but is not necessary. \n",
    "- **Part 2.** The code [10pts]. What code will you use? Place the code in the answer below your setup. When run by a TA it does not have to produce the same result that you received, but it should produce a result. The 10 points will remain vague but the TAs will be considering all of the FREE mnenomic (is it functioning, robust, elegant, efficient). Particularly for online data, robustness is really important. \n",
    "- **Part 3.** The analysis [5pts]. What analysis will you use? We have not introduced any real statistical concepts so I expect this to be generally comparative at this point. You are welcome to report descriptive data, normalised data, or even a statistical model if you feel comfortable, but it should be very, very simple. \n",
    "\n",
    "Think of this like your first 'towardsdatascience' blog post. In that sense, we are not looking for academic tier work (just yet) but work that simply explains the concepts and setup, shows a way to collect some limited data, and then shows a simple analysis. \n",
    "\n",
    "The more general you can make the code the better (to a point). But in that sense, be careful with hard coding variable names or options. Try to avoid spaghetti code if possible. "
   ]
  },
  {
   "cell_type": "markdown",
   "id": "eeec7988-6d86-4e3f-b150-4ecd97007358",
   "metadata": {},
   "source": [
    "# Part 1. Setup\n",
    "__answer below here__\n",
    "Many countries have a national subreddit. These subreddits contain both nationals as well as international participants (akin to non-scandinavian \"scanfans\" in the Oxford Scandinavian Society). However, the subreddits might cater differently to nationals versus internationals through the discourse by using more or less English versus the national language. This is what I will investigate in this assignment. \n",
    "\n",
    "__Research question:__ \n",
    "To what extent do the Scandinavian subreddits use their own language versus English in conversation?\n",
    "\n",
    "__Operationalisation of concepts:__\n",
    "Figuring out the language of a (short) utterance at scale can be difficult. For this task I will use the package [`langdetect`](https://pypi.org/project/langdetect/), which is based on Google software. To ensure sufficient interaction I will investigate the top 100 yearly posts of Denmark, Sweden, and Norway respectively.\n",
    "\n",
    "__Unit of analysis:__\n",
    "This analysis will focus on the comments as this is most interaction happens. I will limit myself to the comments that are immediately returned to limit the complexity of the code (though if I find a simple way to get all comments I'll do that)\n",
    "\n",
    "__Variables of interest:__ \n",
    "For each tweet I will store the following variables: \n",
    "- PostId\n",
    "- CommentId\n",
    "- CommentText\n",
    "- CommentLanguage (derived from `langdetect`)\n",
    "- SubredditId\n",
    "\n",
    "This will allow me to create the following table (with Psedu values)\n",
    "\n",
    "Subreddit | Language | EnglishPct\n",
    "--- | --- | ---\n",
    "Denmark | da | 12%\n",
    "Sweden | sv | 24%\n",
    "Norway | da | 32%\n",
    "\n",
    "I might then do some simple statistical analysis (an Anova) to gauge whether there exists a difference between the countries.  \n",
    "\n",
    "\n",
    "__Technical challenges__\n",
    "Firstly, there might be technical difficulties with scraping comments (which I hope will be manageable). Secondly, there are some statistical challenges with interdepence between the comments. For instance, the language of the title as well as the popularity of the post might influence the amounts (i.e. a highly popular post with an English title might have an influx of English speakers from /r/all). Furthermore, the language of the top-level comment might also influence the language of the conversations. For the sake of simplicity, however, I won't account for this methodologically.\n",
    "\n",
    "Another technical challenge is that all three chosen languages are so-called \"low-resource\" languages. There is simply not nearly as good technology for working with these languages as for English (though [valiant efforts are undertaken](https://www.kennethenevoldsen.com/project/dacy/)). I will remedy this by focusing on the proportion of English comments and thus assume that the rest are probably Danish/Swedish/Norwegian. "
   ]
  },
  {
   "cell_type": "markdown",
   "id": "194b6f59-771d-4328-b467-60b95fd76f4d",
   "metadata": {},
   "source": [
    "# Part 2. Code "
   ]
  },
  {
   "cell_type": "code",
   "execution_count": 78,
   "id": "8ee1671d-7ae5-49b0-9e9b-0efccd92f242",
   "metadata": {},
   "outputs": [],
   "source": [
    "#################################\n",
    "from pathlib import Path\n",
    "import pandas as pd\n",
    "import langdetect\n",
    "import praw\n",
    "import json\n",
    "import matplotlib.pyplot as plt\n",
    "from typing import Generator, Tuple\n",
    "from tqdm import tqdm\n",
    "\n",
    "NATIONALITY_DICT = {\"sv\": \"sweden\", \"da\": \"denmark\", \"no\": \"norway\"}\n",
    "\n",
    "def read_json(filename: Path) -> dict:\n",
    "    \"\"\"Read a JSON file.\n",
    "    Args:\n",
    "        filename (Path): The path to the JSON file.\n",
    "    Returns:\n",
    "        dict: The contents of the JSON file.\n",
    "    \"\"\"\n",
    "    with open(filename) as f:\n",
    "        return json.load(f)\n",
    "\n",
    "def get_top_posts(reddit: praw.Reddit, subreddit: str, n: int = 10) -> Generator:\n",
    "    \"\"\"Get top posts from a subreddit using the Reddit API.\n",
    "    Args:\n",
    "        reddit (praw.Reddit): A Reddit instance.\n",
    "        subreddit (str): The name of the subreddit.\n",
    "        n (int): The number of posts to retrieve.\n",
    "    Returns:\n",
    "        Generator: A generator of top posts.\n",
    "    \"\"\"\n",
    "    return reddit.subreddit(subreddit).top(limit=n, time_filter=\"year\")\n",
    "\n",
    "reddit_config = read_json(Path(\"../reddit_config.json\"))\n",
    "reddit = praw.Reddit(\n",
    "    client_id=reddit_config[\"client_id\"],\n",
    "    client_secret=reddit_config[\"client_secret\"],\n",
    "    user_agent=\"SDS Scraper Jonathan\",\n",
    ")\n",
    "\n",
    "def add_post_info(post: praw.models.Submission) -> dict:\n",
    "    \"\"\"Add post info to a dictionary.\n",
    "    Args:\n",
    "        post (praw.models.Submission): A Reddit post.\n",
    "    Returns:\n",
    "        dict: A dictionary with post info.\n",
    "    \"\"\"\n",
    "    return {\n",
    "        \"title\": post.title,\n",
    "        \"id\": post.id,\n",
    "        \"subreddit\": post.subreddit.display_name,\n",
    "        \"language\": detect_lang(post.title),\n",
    "    }\n",
    "\n",
    "def detect_lang(text: str) -> str:\n",
    "    \"\"\"Detect the language of a text.\n",
    "    Args:\n",
    "        text (str): The text to detect the language of.\n",
    "    Returns:\n",
    "        str: The language of the text.\n",
    "    \"\"\"\n",
    "    try:\n",
    "        return langdetect.detect(text)\n",
    "    except langdetect.lang_detect_exception.LangDetectException:\n",
    "        return \"unknown\"\n",
    "\n",
    "def add_comment_info(comment: praw.models.Comment) -> dict:\n",
    "    \"\"\"Add comment info to a dictionary.\n",
    "    Args:\n",
    "        comment (praw.models.Comment): A Reddit comment.\n",
    "    Returns:\n",
    "        dict: A dictionary with comment info.\n",
    "    \"\"\"\n",
    "    return {\n",
    "        \"id\": comment.id,\n",
    "        \"post_id\": comment.submission.id,\n",
    "        \"body\": comment.body,\n",
    "        \"language\": detect_lang(comment.body),\n",
    "    }\n",
    "\n",
    "def process_subreddit(reddit: praw.Reddit, subreddit: str, n: int = 10) -> Tuple[pd.DataFrame, pd.DataFrame]:\n",
    "    post_list = []\n",
    "    comment_list = []\n",
    "    for top_post in tqdm(get_top_posts(reddit, subreddit=subreddit, n=n)):\n",
    "        post_list.append(add_post_info(top_post))\n",
    "        top_post.comments.replace_more(limit=0)\n",
    "        for comment in top_post.comments.list():\n",
    "            comment_list.append(add_comment_info(comment))\n",
    "    return (pd.DataFrame(post_list), pd.DataFrame(comment_list))\n",
    "# Answer below here"
   ]
  },
  {
   "cell_type": "code",
   "execution_count": 39,
   "id": "088e076f",
   "metadata": {},
   "outputs": [
    {
     "name": "stderr",
     "output_type": "stream",
     "text": [
      "10it [00:57,  5.70s/it]0:00<?, ?it/s]\n",
      "10it [01:10,  7.03s/it]0:57<01:54, 57.06s/it]\n",
      "10it [00:44,  4.50s/it]2:07<01:04, 64.87s/it]\n",
      "100%|██████████| 3/3 [02:52<00:00, 57.47s/it]\n"
     ]
    }
   ],
   "source": [
    "N=10\n",
    "postdf_list = []\n",
    "commentdf_list = []\n",
    "for subreddit in tqdm(NATIONALITY_DICT.values()):\n",
    "    postdf, commentdf = process_subreddit(reddit, subreddit=subreddit, n=N)\n",
    "    postdf_list.append(postdf)\n",
    "    commentdf_list.append(commentdf)\n",
    "\n",
    "postdf = pd.concat(postdf_list)\n",
    "commentdf = pd.concat(commentdf_list)"
   ]
  },
  {
   "cell_type": "code",
   "execution_count": 46,
   "id": "d7591355",
   "metadata": {},
   "outputs": [],
   "source": [
    "merge_df = pd.merge(commentdf, postdf, left_on=\"post_id\", right_on=\"id\", suffixes=(\"_comment\", \"_post\"))"
   ]
  },
  {
   "cell_type": "code",
   "execution_count": 82,
   "id": "831338d6",
   "metadata": {},
   "outputs": [
    {
     "name": "stdout",
     "output_type": "stream",
     "text": [
      "           id_comment\n",
      "subreddit            \n",
      "Denmark          2307\n",
      "Norway           2355\n",
      "sweden           2697\n"
     ]
    },
    {
     "data": {
      "image/png": "[encoded data removed]",
      "text/plain": [
       "<Figure size 640x480 with 1 Axes>"
      ]
     },
     "metadata": {},
     "output_type": "display_data"
    }
   ],
   "source": [
    "merge_df[\"is_english\"] = merge_df[\"language_comment\"] == \"en\"\n",
    "percentage_english = merge_df.groupby(\"subreddit\").agg({\"is_english\": \"mean\"})\n",
    "percentage_english.reset_index(inplace=True)\n",
    "percentage_english.columns = [\"subreddit\", \"percentage_english\"]\n",
    "\n",
    "fig, ax = plt.subplots()\n",
    "percentage_english.plot.bar(x=\"subreddit\", y=\"percentage_english\", ax=ax, color=[\"#C8102E\", \"#00205B\", \"#FECC02\"], legend=False)\n",
    "ax.set_ylabel(\"Percentage of comments in English\")\n",
    "ax.set_xlabel(\"Subreddit\")\n",
    "ax.set_title(\"Percentage of comments in English for top posts in Scandinavian subreddits\")\n",
    "\n",
    "number_of_comments = merge_df.groupby(\"subreddit\").agg({\"id_comment\": \"count\"})\n",
    "print(number_of_comments)\n"
   ]
  },
  {
   "cell_type": "markdown",
   "id": "b2c2ef23-3e37-42fe-814b-a510f9701aa5",
   "metadata": {},
   "source": [
    "# Part 3.\n",
    "\n",
    "**Findings. Make a claim in text using insights from the code below here**\n",
    "The above analysis show a quite striking difference between Norway and the other two countries. An analysis of the titles (not included for brevity) show the same results. While Denmark and Sweden have relatively minor levels of English spoken, Norway is dominated by the English language. A quick sample shows this to be consistent with the experience of browsing the subreddit. \n",
    "\n",
    "The cultural reasons for this are difficult to assess from the data alone. Perusing the data, it seems that much discussion in r/Norway centers around life as an expat (see [this post](https://www.reddit.com/r/Norway/comments/re5znp/no_lies_detected/) and [this post](https://www.reddit.com/r/Norway/comments/skbhj3/norway_here_i_come/)). r/Denmark on the other hand are more focused on domestic matters like [political scandals](https://www.reddit.com/r/Denmark/comments/rffh70/inger_efter_60_dage_i_kachotten/) and our new national hero [Jonas Vingegaard](https://www.reddit.com/r/Denmark/comments/w9k4ij/jonas_fucking_vingegaard/). \n",
    "\n",
    "Zooming out, this analysis highlights some of the power of social data science. It enabled me to pose a relatively simple question and with a few lines of code (and a big help from the open source community) come up with an unexpected answer. While actively browsing the three subreddits might have yielded the same insights over time, I definitely couldn't have read ~8000 comments in three minutes(!). "
   ]
  },
  {
   "cell_type": "markdown",
   "id": "a8faf5af-7941-4897-a509-039e91d26bb5",
   "metadata": {},
   "source": [
    "# Example crawler \n",
    "\n",
    "To inspire you, here are a couple examples of tasks that would be at the right scale:\n",
    "\n",
    "## Talking with flair. \n",
    "\n",
    "On a variety of communities on reddit, you can (and sometimes are required to) have flair which is a little tag next to the person. On the /r/ukpolitics subreddit for example flair is used to denote political affiliation. \n",
    "\n",
    "__Research question:__ \n",
    "Do people who use flair speak differently or behave differently than those who do not? \n",
    "\n",
    "__Operationalisation of concepts:__\n",
    "There are many potential ways to encode 'speak differently or behave differently' that we might operationalise. For this, I will look at a set of the hot 100 posts a subreddit as taking a reasonable sample. \n",
    "\n",
    "__Unit of analysis:__ \n",
    "For each of these posts I will look at the comments. I will not look at all the comments due to the complexity of navigating the comment tree. Rather, when you query a reddit post it comes down with a truncated set of comments. I will be using these. \n",
    "\n",
    "__Variables of interest:__ \n",
    "For each of the comments on the stories I will store the following:\n",
    "- username\n",
    "- comment text for feature extraction\n",
    "- coment score\n",
    "- user flair\n",
    "\n",
    "Then I will wrangle the data so that we group by flair and take the average of the comment score for each flair. This will be reported in a table showing:\n",
    "\n",
    "~~~\n",
    "flair | n_users | n_comments | avg_comment_score\n",
    "~~~\n",
    "\n",
    "I will probably truncate that table as I expect a long-tail distribution. \n",
    "\n",
    "__Technical challenges__\n",
    "\n",
    "We know from class how to download a set of posts, but not how to download the post itself and the comments within it, however, it seems that `<postname>.json` will still work so that should be automatable. I plan to use this post.json and not crawl for all of the comments, deleted comments etc... "
   ]
  },
  {
   "cell_type": "code",
   "execution_count": null,
   "id": "99a5a029-c904-41b3-a88d-2471f2ca673b",
   "metadata": {},
   "outputs": [],
   "source": []
  },
  {
   "cell_type": "code",
   "execution_count": 106,
   "id": "6e7f75ed-ea4d-4439-bf70-887b9769d9a4",
   "metadata": {},
   "outputs": [
    {
     "name": "stdout",
     "output_type": "stream",
     "text": [
      "100 79 100\n"
     ]
    }
   ],
   "source": [
    "# read in CSV files\n",
    "\n",
    "tweet_df = pd.json_normalize(\n",
    "    json.load(\n",
    "        open(\"dalle2_oct18_2022_tweets.json\",'r')))\n",
    "\n",
    "users_df = pd.json_normalize(\n",
    "    json.load(\n",
    "        open(\"dalle2_oct18_2022_users.json\",'r')))\n",
    "\n",
    "merge_df = tweet_df.merge(users_df, left_on=\"author_id\", right_on=\"id\", how=\"left\")\n",
    "\n",
    "print(len(tweet_df),len(users_df),len(merge_df))\n",
    "# Should be 100 79 100"
   ]
  },
  {
   "cell_type": "code",
   "execution_count": 131,
   "id": "05260ba5-314f-4c49-a808-5d64c926c3de",
   "metadata": {},
   "outputs": [
    {
     "name": "stdout",
     "output_type": "stream",
     "text": [
      "29 71\n"
     ]
    }
   ],
   "source": [
    "# Answer below here\n",
    "\n",
    "over1k = merge_df['public_metrics.followers_count'] >= 1000\n",
    "under1k = over1k == False\n",
    "\n",
    "len_over1k = ...\n",
    "len_under1k = ...\n",
    "\n",
    "len_over1k = len(merge_df[over1k])\n",
    "len_under1k = len(merge_df[under1k])"
   ]
  },
  {
   "cell_type": "code",
   "execution_count": 137,
   "id": "0ebb1a2d-04ae-44eb-9457-3621fd24ae78",
   "metadata": {},
   "outputs": [
    {
     "name": "stdout",
     "output_type": "stream",
     "text": [
      "The percentage of tweets from those with over 1k followers that have mentions is  24.1% The percentage of tweets from those with under 1k followers that have mentions is  11.3%\n"
     ]
    }
   ],
   "source": [
    "merge_df['mention_count'] = merge_df['entities.mentions'].map(lambda x: len(x) if type(x) == list else 0)\n",
    "\n",
    "# print(merge_df['mention_count'].value_counts())\n",
    "\n",
    "over1k_nummention = len(merge_df[over1k][merge_df[over1k]['mention_count'] > 0])\n",
    "\n",
    "under1k_nummention = len(merge_df[under1k][merge_df[under1k]['mention_count'] > 0])\n",
    "\n",
    "print(f\"The percentage of tweets from those with over 1k followers that have mentions is  {over1k_nummention / len_over1k:0.1%}\",\n",
    "      f\"The percentage of tweets from those with under 1k followers that have mentions is  {under1k_nummention / len_under1k:0.1%}\")"
   ]
  }
 ],
 "metadata": {
  "kernelspec": {
   "display_name": "Python 3.9.13 ('sdspython')",
   "language": "python",
   "name": "python3"
  },
  "language_info": {
   "codemirror_mode": {
    "name": "ipython",
    "version": 3
   },
   "file_extension": ".py",
   "mimetype": "text/x-python",
   "name": "python",
   "nbconvert_exporter": "python",
   "pygments_lexer": "ipython3",
   "version": "3.9.13"
  },
  "toc-autonumbering": false,
  "vscode": {
   "interpreter": {
    "hash": "60612d6d4782d833a44515694e4bccfae5bb8e3209e7562cc1fda167f2433927"
   }
  }
 },
 "nbformat": 4,
 "nbformat_minor": 5
}
