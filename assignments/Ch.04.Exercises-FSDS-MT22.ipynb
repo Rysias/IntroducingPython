{
 "cells": [
  {
   "cell_type": "markdown",
   "id": "eb9d7bac-c8a9-4221-9d42-0b91d8f05a00",
   "metadata": {
    "tags": []
   },
   "source": [
    "# Week 2. Day 1. Exercises from Chapter 4 of FSStDS. \n",
    "## Fundamentals of Social Data Science. MT 2022\n",
    "\n",
    "Within your study pod discuss the following questions. Please submit an individual assignment by 12:30pm Tuesday, October 18, 2022 on Canvas. "
   ]
  },
  {
   "cell_type": "markdown",
   "id": "0803932b-ef93-4423-970d-fd1d20f5c82a",
   "metadata": {},
   "source": [
    "# Exercise 1. Creating a DataFrame from multiple JSON files\n",
    "\n",
    "There are nine pages of search results for Oxford from OMDB (as of last year; `omdb_Oxford_search_page_\\*.json`). \n",
    "\n",
    "**Exercise 1a.** Create a single DataFrame from these 9 files.\n",
    "\n",
    "**Exercise 1b.** Report on the oldest and most recent entry. \n",
    "\n",
    "- **Hint**. To read all files from a Path object with a wildcard use the 'glob' method, such as: `for path in data_dir.blog(\"omdb_Oxford*.json\"): path.do_something()`\n",
    "\n",
    "- **Challenge** - Note that shows that span years are written with the two years separated by `--`. So ensure that you split this and then consider these years when reporting the oldest and newest entries. \n"
   ]
  },
  {
   "cell_type": "code",
   "execution_count": 4,
   "id": "5964f5b7-64a6-4bf6-b331-b38c7e4e90f2",
   "metadata": {},
   "outputs": [
    {
     "data": {
      "text/html": [
       "<div>\n",
       "<style scoped>\n",
       "    .dataframe tbody tr th:only-of-type {\n",
       "        vertical-align: middle;\n",
       "    }\n",
       "\n",
       "    .dataframe tbody tr th {\n",
       "        vertical-align: top;\n",
       "    }\n",
       "\n",
       "    .dataframe thead th {\n",
       "        text-align: right;\n",
       "    }\n",
       "</style>\n",
       "<table border=\"1\" class=\"dataframe\">\n",
       "  <thead>\n",
       "    <tr style=\"text-align: right;\">\n",
       "      <th></th>\n",
       "      <th>Title</th>\n",
       "      <th>Year</th>\n",
       "      <th>imdbID</th>\n",
       "      <th>Type</th>\n",
       "      <th>Poster</th>\n",
       "    </tr>\n",
       "  </thead>\n",
       "  <tbody>\n",
       "    <tr>\n",
       "      <th>0</th>\n",
       "      <td>The Oxford Murders</td>\n",
       "      <td>2008</td>\n",
       "      <td>tt0488604</td>\n",
       "      <td>movie</td>\n",
       "      <td>https://m.media-amazon.com/images/M/MV5BMTUzMj...</td>\n",
       "    </tr>\n",
       "    <tr>\n",
       "      <th>1</th>\n",
       "      <td>A Chump at Oxford</td>\n",
       "      <td>1939</td>\n",
       "      <td>tt0032339</td>\n",
       "      <td>movie</td>\n",
       "      <td>https://m.media-amazon.com/images/M/MV5BMjA1Mj...</td>\n",
       "    </tr>\n",
       "    <tr>\n",
       "      <th>2</th>\n",
       "      <td>Oxford Blues</td>\n",
       "      <td>1984</td>\n",
       "      <td>tt0087866</td>\n",
       "      <td>movie</td>\n",
       "      <td>https://m.media-amazon.com/images/M/MV5BMTVjYj...</td>\n",
       "    </tr>\n",
       "    <tr>\n",
       "      <th>3</th>\n",
       "      <td>A Yank at Oxford</td>\n",
       "      <td>1938</td>\n",
       "      <td>tt0030989</td>\n",
       "      <td>movie</td>\n",
       "      <td>https://m.media-amazon.com/images/M/MV5BMzhjOG...</td>\n",
       "    </tr>\n",
       "    <tr>\n",
       "      <th>4</th>\n",
       "      <td>David Icke: Live at Oxford Union Debating Society</td>\n",
       "      <td>2008</td>\n",
       "      <td>tt2282755</td>\n",
       "      <td>movie</td>\n",
       "      <td>N/A</td>\n",
       "    </tr>\n",
       "    <tr>\n",
       "      <th>...</th>\n",
       "      <td>...</td>\n",
       "      <td>...</td>\n",
       "      <td>...</td>\n",
       "      <td>...</td>\n",
       "      <td>...</td>\n",
       "    </tr>\n",
       "    <tr>\n",
       "      <th>6</th>\n",
       "      <td>The Oxford Historical Pageant</td>\n",
       "      <td>1907</td>\n",
       "      <td>tt3662478</td>\n",
       "      <td>movie</td>\n",
       "      <td>N/A</td>\n",
       "    </tr>\n",
       "    <tr>\n",
       "      <th>7</th>\n",
       "      <td>President Fallieres at Oxford Circus</td>\n",
       "      <td>1908</td>\n",
       "      <td>tt3722954</td>\n",
       "      <td>movie</td>\n",
       "      <td>N/A</td>\n",
       "    </tr>\n",
       "    <tr>\n",
       "      <th>8</th>\n",
       "      <td>The Oxford and Cambridge Sports</td>\n",
       "      <td>1908</td>\n",
       "      <td>tt3884736</td>\n",
       "      <td>movie</td>\n",
       "      <td>N/A</td>\n",
       "    </tr>\n",
       "    <tr>\n",
       "      <th>9</th>\n",
       "      <td>Oxford and Cambridge Boat Race</td>\n",
       "      <td>1909</td>\n",
       "      <td>tt4055948</td>\n",
       "      <td>movie</td>\n",
       "      <td>N/A</td>\n",
       "    </tr>\n",
       "    <tr>\n",
       "      <th>0</th>\n",
       "      <td>Oxford and Cambridge Boat Race</td>\n",
       "      <td>1909</td>\n",
       "      <td>tt4161946</td>\n",
       "      <td>movie</td>\n",
       "      <td>N/A</td>\n",
       "    </tr>\n",
       "  </tbody>\n",
       "</table>\n",
       "<p>81 rows × 5 columns</p>\n",
       "</div>"
      ],
      "text/plain": [
       "                                                Title  Year     imdbID   Type  \\\n",
       "0                                  The Oxford Murders  2008  tt0488604  movie   \n",
       "1                                   A Chump at Oxford  1939  tt0032339  movie   \n",
       "2                                        Oxford Blues  1984  tt0087866  movie   \n",
       "3                                    A Yank at Oxford  1938  tt0030989  movie   \n",
       "4   David Icke: Live at Oxford Union Debating Society  2008  tt2282755  movie   \n",
       "..                                                ...   ...        ...    ...   \n",
       "6                       The Oxford Historical Pageant  1907  tt3662478  movie   \n",
       "7                President Fallieres at Oxford Circus  1908  tt3722954  movie   \n",
       "8                     The Oxford and Cambridge Sports  1908  tt3884736  movie   \n",
       "9                      Oxford and Cambridge Boat Race  1909  tt4055948  movie   \n",
       "0                      Oxford and Cambridge Boat Race  1909  tt4161946  movie   \n",
       "\n",
       "                                               Poster  \n",
       "0   https://m.media-amazon.com/images/M/MV5BMTUzMj...  \n",
       "1   https://m.media-amazon.com/images/M/MV5BMjA1Mj...  \n",
       "2   https://m.media-amazon.com/images/M/MV5BMTVjYj...  \n",
       "3   https://m.media-amazon.com/images/M/MV5BMzhjOG...  \n",
       "4                                                 N/A  \n",
       "..                                                ...  \n",
       "6                                                 N/A  \n",
       "7                                                 N/A  \n",
       "8                                                 N/A  \n",
       "9                                                 N/A  \n",
       "0                                                 N/A  \n",
       "\n",
       "[81 rows x 5 columns]"
      ]
     },
     "execution_count": 4,
     "metadata": {},
     "output_type": "execute_result"
    }
   ],
   "source": [
    "# Exercise 1a answer below here \n",
    "import pandas as pd\n",
    "import json\n",
    "from pathlib import Path \n",
    "\n",
    "def read_json(json_file: Path) -> pd.DataFrame:\n",
    "    with open(json_file, 'r') as f:\n",
    "        data = json.load(f)\n",
    "    return pd.DataFrame(data[\"Search\"])\n",
    "\n",
    "\n",
    "data_dir = Path(\"../data/Week2Day1 - Exercsie Data for the data folder\")\n",
    "assert data_dir.exists()\n",
    "\n",
    "# Read the files from json\n",
    "df = pd.concat([read_json(f) for f in data_dir.glob(\"*omdb_Oxford_search_page_*.json\")])\n",
    "# Exercise 1a answer above here"
   ]
  },
  {
   "cell_type": "code",
   "execution_count": 8,
   "id": "6da13185-3935-4c3b-b45b-12605ff78a07",
   "metadata": {},
   "outputs": [],
   "source": [
    "# Exercise 1b answer below here \n",
    "\n",
    "\n",
    "# Exercise 1b answer above here"
   ]
  },
  {
   "cell_type": "markdown",
   "id": "f7ed32db-97d9-4a31-9622-b1a654dd79d6",
   "metadata": {},
   "source": [
    "# Exercise 2. Navigate Reddit JSON \n",
    "\n",
    "Go to a page on reddit and then replace www.reddit with api.reddit. This will then give the page as JSON. Do this for a specific subreddit of interest (such as cats, cryptocurrency, mediasynthesis, ukpolitics, etc...). \n",
    "\n",
    "This json will likely only have 25-26 entries. Normalise by data so that each story has a single line. This will have many, many columns. One of these columns will be the title of the headline and one will be the URL. \n",
    "\n",
    "- **Exercise 2a**. Find these two columns and then create a smaller DataFrame that just has these columns as well as the one for upvote score (`ups`).  \n",
    "\n",
    "- **Exercise 2b**. What are the most common words across all titles? Does it matter if you use lower case and remove punctuation as we did last week? \n",
    "\n",
    "- **Exercise 2c**. What domain names are the most common?\n",
    "\n",
    "> **Hint**: If you aren't having luck with saving your own JSON, you can use the old `environment.json` that is appended with the data. \n",
    "\n",
    "> **Hint**: Parsing domain names can be a nuisance. Here is a a small snippet that can help: "
   ]
  },
  {
   "cell_type": "code",
   "execution_count": 4,
   "id": "750c3cb3-1f0c-41f9-b9c9-32ee0d180e0f",
   "metadata": {},
   "outputs": [
    {
     "name": "stdout",
     "output_type": "stream",
     "text": [
      "ParseResult(scheme='http', netloc='www.nytimes.com', path='/somestory.html', params='', query='', fragment='')\n"
     ]
    }
   ],
   "source": [
    "# See: https://docs.python.org/3/library/urllib.parse.html\n",
    "# For example:\n",
    "from urllib.parse import urlparse\n",
    "result = urlparse(\"http://www.nytimes.com/somestory.html\")\n",
    "print(result) # Which item is the domain name? "
   ]
  },
  {
   "cell_type": "code",
   "execution_count": null,
   "id": "cad7d8ff-ebcb-4c8f-a4bc-33ea9a7bc810",
   "metadata": {},
   "outputs": [],
   "source": [
    "# Exercise 2a Answer below here \n",
    "\n",
    "\n",
    "# Exercise 2a Answer above here "
   ]
  },
  {
   "cell_type": "code",
   "execution_count": null,
   "id": "f567c630-eb57-4a00-b683-4095b33903b3",
   "metadata": {},
   "outputs": [],
   "source": [
    "# Exercise 2b Answer below here \n",
    "\n",
    "\n",
    "# Exercise 2b Answer above here "
   ]
  },
  {
   "cell_type": "code",
   "execution_count": 5,
   "id": "71d9d55f-93d0-417d-923e-f9ea61353061",
   "metadata": {},
   "outputs": [],
   "source": [
    "# Exercise 2c Answer below here \n",
    "\n",
    "\n",
    "# Exercise 2c Answer above here "
   ]
  },
  {
   "cell_type": "markdown",
   "id": "7f3b17f7-d9b2-40ff-b569-7a5184786f44",
   "metadata": {},
   "source": [
    "# Exercise 3. The love-hate relationship with DIKW\n",
    "\n",
    "As mentioned in the chapter, the Wikipedia entry for data had DIKW in the article, then it was removed, then it reappared! I think it is still there now. I did not do the editing of this. \n",
    "\n",
    "With the data export of the Wikipedia page on data (`Wikipedia - data - Special export - 2022-10-17_10_24_15.xml`): \n",
    "\n",
    "- **Exercise 3a**. Create a DataFrame where each revision of the Wikipedia article in the export is given its own row. \n",
    "- **Exercise 3b**. Search for the first time DIKW was mentioned and the last time it was mentioned. Try to find the gap? When did it appear? \n",
    "\n",
    "> **Hint**: Using `xmltodict` might be helpful for wrangling the XML data, but it might also make life complicated. Explore the data both through a text editor (or browser) and through code to get a sense of it. \n",
    "\n",
    "> **Hint**: It is admittedly a little easier to do this if you make use of time in your DataFrame. We do not cover that much until Chapter 10, but feel free to look ahead. You can still sort by revisionID and then just browse the data yourself. This will end up being one of those tasks that's not easy but gets easier with more skills of abstraction.  "
   ]
  },
  {
   "cell_type": "code",
   "execution_count": null,
   "id": "544c55c4-5f10-4992-b11d-795d5eda84f0",
   "metadata": {},
   "outputs": [],
   "source": [
    "# Exercise 3a Answer below here\n",
    "\n",
    "\n",
    "# EXercise 3a Answer above here"
   ]
  },
  {
   "cell_type": "code",
   "execution_count": 6,
   "id": "fb4d4201-a466-4fe1-9e35-0a29c43cd795",
   "metadata": {},
   "outputs": [],
   "source": [
    "# Exercise 3b Answer below here\n",
    "\n",
    "\n",
    "# EXercise 3b Answer above here"
   ]
  }
 ],
 "metadata": {
  "kernelspec": {
   "display_name": "Python 3.9.13 ('sdspython')",
   "language": "python",
   "name": "python3"
  },
  "language_info": {
   "codemirror_mode": {
    "name": "ipython",
    "version": 3
   },
   "file_extension": ".py",
   "mimetype": "text/x-python",
   "name": "python",
   "nbconvert_exporter": "python",
   "pygments_lexer": "ipython3",
   "version": "3.9.13"
  },
  "vscode": {
   "interpreter": {
    "hash": "60612d6d4782d833a44515694e4bccfae5bb8e3209e7562cc1fda167f2433927"
   }
  }
 },
 "nbformat": 4,
 "nbformat_minor": 5
}
