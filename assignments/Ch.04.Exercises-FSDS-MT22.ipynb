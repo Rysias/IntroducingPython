{
 "cells": [
  {
   "cell_type": "markdown",
   "id": "eb9d7bac-c8a9-4221-9d42-0b91d8f05a00",
   "metadata": {
    "tags": []
   },
   "source": [
    "# Week 2. Day 1. Exercises from Chapter 4 of FSStDS. \n",
    "## Fundamentals of Social Data Science. MT 2022\n",
    "\n",
    "Within your study pod discuss the following questions. Please submit an individual assignment by 12:30pm Tuesday, October 18, 2022 on Canvas. "
   ]
  },
  {
   "cell_type": "markdown",
   "id": "0803932b-ef93-4423-970d-fd1d20f5c82a",
   "metadata": {},
   "source": [
    "# Exercise 1. Creating a DataFrame from multiple JSON files\n",
    "\n",
    "There are nine pages of search results for Oxford from OMDB (as of last year; `omdb_Oxford_search_page_\\*.json`). \n",
    "\n",
    "**Exercise 1a.** Create a single DataFrame from these 9 files.\n",
    "\n",
    "**Exercise 1b.** Report on the oldest and most recent entry. \n",
    "\n",
    "- **Hint**. To read all files from a Path object with a wildcard use the 'glob' method, such as: `for path in data_dir.blog(\"omdb_Oxford*.json\"): path.do_something()`\n",
    "\n",
    "- **Challenge** - Note that shows that span years are written with the two years separated by `--`. So ensure that you split this and then consider these years when reporting the oldest and newest entries. \n"
   ]
  },
  {
   "cell_type": "code",
   "execution_count": 14,
   "id": "5964f5b7-64a6-4bf6-b331-b38c7e4e90f2",
   "metadata": {},
   "outputs": [],
   "source": [
    "# Exercise 1a answer below here \n",
    "import pandas as pd\n",
    "import json\n",
    "from pathlib import Path \n",
    "\n",
    "def read_json(json_file: Path) -> pd.DataFrame:\n",
    "    with open(json_file, 'r') as f:\n",
    "        data = json.load(f)\n",
    "    return pd.DataFrame(data[\"Search\"])\n",
    "\n",
    "\n",
    "data_dir = Path(\"../data/Week2Day1 - Exercsie Data for the data folder\")\n",
    "assert data_dir.exists()\n",
    "\n",
    "# Read the files from json\n",
    "df = pd.concat([read_json(f) for f in data_dir.glob(\"*omdb_Oxford_search_page_*.json\")])\n",
    "# Exercise 1a answer above here"
   ]
  },
  {
   "cell_type": "code",
   "execution_count": 15,
   "id": "6da13185-3935-4c3b-b45b-12605ff78a07",
   "metadata": {},
   "outputs": [
    {
     "name": "stdout",
     "output_type": "stream",
     "text": [
      "Oldest entry: The Oxford and Cambridge University Boat Race (1895)\n",
      "Newest entry: Ein Sommer in Oxford (2018)\n"
     ]
    }
   ],
   "source": [
    "# Exercise 1b answer below here \n",
    "df[\"Year\"] = df[\"Year\"].str.extract(r\"(\\d{4})\").astype(int)\n",
    "oldest_entry = df[df[\"Year\"] == df[\"Year\"].min()]\n",
    "newest_entry = df[df[\"Year\"] == df[\"Year\"].max()]\n",
    "print(f\"Oldest entry: {oldest_entry['Title'].values[0]} ({oldest_entry['Year'].values[0]})\")\n",
    "print(f\"Newest entry: {newest_entry['Title'].values[0]} ({newest_entry['Year'].values[0]})\")\n",
    "# Exercise 1b answer above here"
   ]
  },
  {
   "cell_type": "markdown",
   "id": "f7ed32db-97d9-4a31-9622-b1a654dd79d6",
   "metadata": {},
   "source": [
    "# Exercise 2. Navigate Reddit JSON \n",
    "\n",
    "Go to a page on reddit and then replace www.reddit with api.reddit. This will then give the page as JSON. Do this for a specific subreddit of interest (such as cats, cryptocurrency, mediasynthesis, ukpolitics, etc...). \n",
    "\n",
    "This json will likely only have 25-26 entries. Normalise by data so that each story has a single line. This will have many, many columns. One of these columns will be the title of the headline and one will be the URL. \n",
    "\n",
    "- **Exercise 2a**. Find these two columns and then create a smaller DataFrame that just has these columns as well as the one for upvote score (`ups`).  \n",
    "\n",
    "- **Exercise 2b**. What are the most common words across all titles? Does it matter if you use lower case and remove punctuation as we did last week? \n",
    "\n",
    "- **Exercise 2c**. What domain names are the most common?\n",
    "\n",
    "> **Hint**: If you aren't having luck with saving your own JSON, you can use the old `environment.json` that is appended with the data. \n",
    "\n",
    "> **Hint**: Parsing domain names can be a nuisance. Here is a a small snippet that can help: "
   ]
  },
  {
   "cell_type": "code",
   "execution_count": 57,
   "id": "750c3cb3-1f0c-41f9-b9c9-32ee0d180e0f",
   "metadata": {},
   "outputs": [
    {
     "name": "stdout",
     "output_type": "stream",
     "text": [
      "ParseResult(scheme='http', netloc='www.nytimes.com', path='/somestory.html', params='', query='', fragment='')\n"
     ]
    }
   ],
   "source": [
    "# See: https://docs.python.org/3/library/urllib.parse.html\n",
    "# For example:\n",
    "from urllib.parse import urlparse\n",
    "result = urlparse(\"http://www.nytimes.com/somestory.html\")\n",
    "print(result) # Which item is the domain name? "
   ]
  },
  {
   "cell_type": "code",
   "execution_count": 53,
   "id": "cad7d8ff-ebcb-4c8f-a4bc-33ea9a7bc810",
   "metadata": {},
   "outputs": [
    {
     "name": "stdout",
     "output_type": "stream",
     "text": [
      "                            title                                  url    ups\n",
      "0            Look at his smile :)      https://i.imgur.com/H9tgQ0x.png  73112\n",
      "1  Still friends 37 years later 💜  https://i.redd.it/er7dsw87b8u91.jpg  70753\n",
      "2            He is the chosen one  https://i.redd.it/i7zy6j11o6u91.jpg  19215\n",
      "3                Important Update  https://i.redd.it/zp8an8p15au91.png   7784\n",
      "4                 this is so true  https://i.redd.it/7prhc0hpq6u91.jpg   6747\n"
     ]
    }
   ],
   "source": [
    "# Exercise 2a Answer below here \n",
    "from typing import List\n",
    "import requests\n",
    "\n",
    "def read_results(url: str, columns: List[str]) -> pd.DataFrame:\n",
    "    r = requests.get(url)\n",
    "    assert r.status_code == 200, f\"Request failed with status code {r.status_code}\"\n",
    "    results = r.json()\n",
    "    return pd.DataFrame([data[\"data\"] for data in results[\"data\"][\"children\"]])[columns]\n",
    "\n",
    "reddit_url = \"https://api.reddit.com\"\n",
    "wholesome_url = f\"{reddit_url}/r/wholesomememes/top?t=day&limit=75\"\n",
    "\n",
    "new_df = read_results(wholesome_url, columns=[\"title\", \"url\", \"ups\"])\n",
    "print(new_df.head())\n",
    "\n",
    "# Exercise 2a Answer above here "
   ]
  },
  {
   "cell_type": "code",
   "execution_count": 55,
   "id": "f567c630-eb57-4a00-b683-4095b33903b3",
   "metadata": {},
   "outputs": [
    {
     "data": {
      "text/plain": [
       "is           6\n",
       "you          5\n",
       "to           5\n",
       "just         4\n",
       "this         4\n",
       "i            4\n",
       "in           4\n",
       "like         4\n",
       "my           4\n",
       "wholesome    4\n",
       "Name: title, dtype: int64"
      ]
     },
     "execution_count": 55,
     "metadata": {},
     "output_type": "execute_result"
    }
   ],
   "source": [
    "# Exercise 2b Answer below here \n",
    "# Find most common words in titles\n",
    "new_df[\"title\"].str.lower().str.split().explode().value_counts().head(10)\n",
    "\n",
    "# Exercise 2b Answer above here "
   ]
  },
  {
   "cell_type": "code",
   "execution_count": 60,
   "id": "71d9d55f-93d0-417d-923e-f9ea61353061",
   "metadata": {},
   "outputs": [
    {
     "data": {
      "text/plain": [
       "i.redd.it      48\n",
       "i.imgur.com     3\n",
       "imgur.com       2\n",
       "Name: domain, dtype: int64"
      ]
     },
     "execution_count": 60,
     "metadata": {},
     "output_type": "execute_result"
    }
   ],
   "source": [
    "# Exercise 2c Answer below here \n",
    "def parse_url(url: str) -> str:\n",
    "    return urlparse(url).netloc\n",
    "\n",
    "new_df[\"domain\"] = new_df[\"url\"].apply(parse_url)\n",
    "\n",
    "# most common domains\n",
    "new_df[\"domain\"].value_counts().head(10)\n",
    "\n",
    "# Exercise 2c Answer above here "
   ]
  },
  {
   "cell_type": "markdown",
   "id": "7f3b17f7-d9b2-40ff-b569-7a5184786f44",
   "metadata": {},
   "source": [
    "# Exercise 3. The love-hate relationship with DIKW\n",
    "\n",
    "As mentioned in the chapter, the Wikipedia entry for data had DIKW in the article, then it was removed, then it reappared! I think it is still there now. I did not do the editing of this. \n",
    "\n",
    "With the data export of the Wikipedia page on data (`Wikipedia - data - Special export - 2022-10-17_10_24_15.xml`): \n",
    "\n",
    "- **Exercise 3a**. Create a DataFrame where each revision of the Wikipedia article in the export is given its own row. \n",
    "- **Exercise 3b**. Search for the first time DIKW was mentioned and the last time it was mentioned. Try to find the gap? When did it appear? \n",
    "\n",
    "> **Hint**: Using `xmltodict` might be helpful for wrangling the XML data, but it might also make life complicated. Explore the data both through a text editor (or browser) and through code to get a sense of it. \n",
    "\n",
    "> **Hint**: It is admittedly a little easier to do this if you make use of time in your DataFrame. We do not cover that much until Chapter 10, but feel free to look ahead. You can still sort by revisionID and then just browse the data yourself. This will end up being one of those tasks that's not easy but gets easier with more skills of abstraction.  "
   ]
  },
  {
   "cell_type": "code",
   "execution_count": null,
   "id": "544c55c4-5f10-4992-b11d-795d5eda84f0",
   "metadata": {},
   "outputs": [],
   "source": [
    "# Exercise 3a Answer below here\n",
    "\n",
    "\n",
    "# EXercise 3a Answer above here"
   ]
  },
  {
   "cell_type": "code",
   "execution_count": 6,
   "id": "fb4d4201-a466-4fe1-9e35-0a29c43cd795",
   "metadata": {},
   "outputs": [],
   "source": [
    "# Exercise 3b Answer below here\n",
    "\n",
    "\n",
    "# EXercise 3b Answer above here"
   ]
  }
 ],
 "metadata": {
  "kernelspec": {
   "display_name": "Python 3.9.13 ('sdspython')",
   "language": "python",
   "name": "python3"
  },
  "language_info": {
   "codemirror_mode": {
    "name": "ipython",
    "version": 3
   },
   "file_extension": ".py",
   "mimetype": "text/x-python",
   "name": "python",
   "nbconvert_exporter": "python",
   "pygments_lexer": "ipython3",
   "version": "3.9.13"
  },
  "vscode": {
   "interpreter": {
    "hash": "60612d6d4782d833a44515694e4bccfae5bb8e3209e7562cc1fda167f2433927"
   }
  }
 },
 "nbformat": 4,
 "nbformat_minor": 5
}
