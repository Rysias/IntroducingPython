{
 "cells": [
  {
   "cell_type": "markdown",
   "id": "eb9d7bac-c8a9-4221-9d42-0b91d8f05a00",
   "metadata": {
    "tags": []
   },
   "source": [
    "# Week 2. Day 1. Exercises from Chapter 4 of FSStDS. \n",
    "## Fundamentals of Social Data Science. MT 2022\n",
    "\n",
    "Within your study pod discuss the following questions. Please submit an individual assignment by 12:30pm Tuesday, October 18, 2022 on Canvas. "
   ]
  },
  {
   "cell_type": "markdown",
   "id": "0803932b-ef93-4423-970d-fd1d20f5c82a",
   "metadata": {},
   "source": [
    "# Exercise 1. Creating a DataFrame from multiple JSON files\n",
    "\n",
    "There are nine pages of search results for Oxford from OMDB (as of last year; `omdb_Oxford_search_page_\\*.json`). \n",
    "\n",
    "**Exercise 1a.** Create a single DataFrame from these 9 files.\n",
    "\n",
    "**Exercise 1b.** Report on the oldest and most recent entry. \n",
    "\n",
    "- **Hint**. To read all files from a Path object with a wildcard use the 'glob' method, such as: `for path in data_dir.blog(\"omdb_Oxford*.json\"): path.do_something()`\n",
    "\n",
    "- **Challenge** - Note that shows that span years are written with the two years separated by `--`. So ensure that you split this and then consider these years when reporting the oldest and newest entries. \n"
   ]
  },
  {
   "cell_type": "code",
   "execution_count": 1,
   "id": "5964f5b7-64a6-4bf6-b331-b38c7e4e90f2",
   "metadata": {},
   "outputs": [],
   "source": [
    "# Exercise 1a answer below here \n",
    "import pandas as pd\n",
    "import json\n",
    "from pathlib import Path \n",
    "\n",
    "def read_json(json_file: Path) -> pd.DataFrame:\n",
    "    with open(json_file, 'r') as f:\n",
    "        data = json.load(f)\n",
    "    return pd.DataFrame(data[\"Search\"])\n",
    "\n",
    "\n",
    "data_dir = Path(\"../data/Week2Day1 - Exercsie Data for the data folder\")\n",
    "assert data_dir.exists()\n",
    "\n",
    "# Read the files from json\n",
    "df = pd.concat([read_json(f) for f in data_dir.glob(\"*omdb_Oxford_search_page_*.json\")])\n",
    "# Exercise 1a answer above here"
   ]
  },
  {
   "cell_type": "code",
   "execution_count": 2,
   "id": "6da13185-3935-4c3b-b45b-12605ff78a07",
   "metadata": {},
   "outputs": [
    {
     "name": "stdout",
     "output_type": "stream",
     "text": [
      "Oldest entry: The Oxford and Cambridge University Boat Race (1895)\n",
      "Newest entry: Ein Sommer in Oxford (2018)\n"
     ]
    }
   ],
   "source": [
    "# Exercise 1b answer below here \n",
    "df[\"Year\"] = df[\"Year\"].str.extract(r\"(\\d{4})\").astype(int)\n",
    "oldest_entry = df[df[\"Year\"] == df[\"Year\"].min()]\n",
    "newest_entry = df[df[\"Year\"] == df[\"Year\"].max()]\n",
    "print(f\"Oldest entry: {oldest_entry['Title'].values[0]} ({oldest_entry['Year'].values[0]})\")\n",
    "print(f\"Newest entry: {newest_entry['Title'].values[0]} ({newest_entry['Year'].values[0]})\")\n",
    "# Exercise 1b answer above here"
   ]
  },
  {
   "cell_type": "markdown",
   "id": "f7ed32db-97d9-4a31-9622-b1a654dd79d6",
   "metadata": {},
   "source": [
    "# Exercise 2. Navigate Reddit JSON \n",
    "\n",
    "Go to a page on reddit and then replace www.reddit with api.reddit. This will then give the page as JSON. Do this for a specific subreddit of interest (such as cats, cryptocurrency, mediasynthesis, ukpolitics, etc...). \n",
    "\n",
    "This json will likely only have 25-26 entries. Normalise by data so that each story has a single line. This will have many, many columns. One of these columns will be the title of the headline and one will be the URL. \n",
    "\n",
    "- **Exercise 2a**. Find these two columns and then create a smaller DataFrame that just has these columns as well as the one for upvote score (`ups`).  \n",
    "\n",
    "- **Exercise 2b**. What are the most common words across all titles? Does it matter if you use lower case and remove punctuation as we did last week? \n",
    "\n",
    "- **Exercise 2c**. What domain names are the most common?\n",
    "\n",
    "> **Hint**: If you aren't having luck with saving your own JSON, you can use the old `environment.json` that is appended with the data. \n",
    "\n",
    "> **Hint**: Parsing domain names can be a nuisance. Here is a a small snippet that can help: "
   ]
  },
  {
   "cell_type": "code",
   "execution_count": 3,
   "id": "750c3cb3-1f0c-41f9-b9c9-32ee0d180e0f",
   "metadata": {},
   "outputs": [
    {
     "name": "stdout",
     "output_type": "stream",
     "text": [
      "ParseResult(scheme='http', netloc='www.nytimes.com', path='/somestory.html', params='', query='', fragment='')\n"
     ]
    }
   ],
   "source": [
    "# See: https://docs.python.org/3/library/urllib.parse.html\n",
    "# For example:\n",
    "from urllib.parse import urlparse\n",
    "result = urlparse(\"http://www.nytimes.com/somestory.html\")\n",
    "print(result) # Which item is the domain name? "
   ]
  },
  {
   "cell_type": "code",
   "execution_count": 4,
   "id": "cad7d8ff-ebcb-4c8f-a4bc-33ea9a7bc810",
   "metadata": {},
   "outputs": [
    {
     "name": "stdout",
     "output_type": "stream",
     "text": [
      "                                          data.title  data.ups  \\\n",
      "0  President Biden will make entire 645k federal ...      1226   \n",
      "1  ‘I regret my country has been absent’: John Ke...      3532   \n",
      "2  Should Biden declare a 'climate emergency'? 38...        50   \n",
      "3  Schumer calls for Biden to declare climate eme...        66   \n",
      "4  Trump’s Last-Minute Attack on Clean Air Faces ...        24   \n",
      "\n",
      "                                            data.url  \n",
      "0  https://electrek.co/2021/01/25/president-biden...  \n",
      "1  https://www.independent.co.uk/environment/clim...  \n",
      "2  https://grist.org/climate/38-countries-have-de...  \n",
      "3  https://thehill.com/homenews/senate/535811-sch...  \n",
      "4  https://www.commondreams.org/newswire/2021/01/...  \n"
     ]
    }
   ],
   "source": [
    "# Exercise 2a Answer below here \n",
    "from typing import List\n",
    "import requests\n",
    "\n",
    "def read_results(url: str, columns: List[str]) -> pd.DataFrame:\n",
    "    r = requests.get(url)\n",
    "    assert r.status_code == 200, f\"Request failed with status code {r.status_code}\"\n",
    "    results = r.json()\n",
    "    return pd.DataFrame([data[\"data\"] for data in results[\"data\"][\"children\"]])[columns]\n",
    "\n",
    "reddit_url = \"https://api.reddit.com\"\n",
    "wholesome_url = f\"{reddit_url}/r/wholesomememes/top?t=year&limit=50\"\n",
    "\n",
    "#new_df = read_results(wholesome_url, columns=[\"title\", \"url\", \"ups\"])\n",
    "#print(new_df.head())\n",
    "\n",
    "# using the json\n",
    "json_file = data_dir / \"environment.json\"\n",
    "with open(json_file, 'r') as f:\n",
    "    data = json.load(f)\n",
    "\n",
    "\n",
    "\n",
    "environment_df = pd.json_normalize(data[\"data\"][\"children\"])\n",
    "\n",
    "small_environment = environment_df[[\"data.title\", \"data.ups\", \"data.url\"]]\n",
    "print(small_environment.head())\n",
    "# Exercise 2a Answer above here "
   ]
  },
  {
   "cell_type": "code",
   "execution_count": 5,
   "id": "f567c630-eb57-4a00-b683-4095b33903b3",
   "metadata": {},
   "outputs": [
    {
     "data": {
      "text/plain": [
       "the        50\n",
       "to         47\n",
       "climate    29\n",
       "on         26\n",
       "of         25\n",
       "and        23\n",
       "in         22\n",
       "for        17\n",
       "a          15\n",
       "from       14\n",
       "Name: data.title, dtype: int64"
      ]
     },
     "execution_count": 5,
     "metadata": {},
     "output_type": "execute_result"
    }
   ],
   "source": [
    "# Exercise 2b Answer below here \n",
    "# Find most common words in titles\n",
    "small_environment[\"data.title\"].str.lower().str.split().explode().value_counts().head(10)\n",
    "\n",
    "# Exercise 2b Answer above here "
   ]
  },
  {
   "cell_type": "code",
   "execution_count": 6,
   "id": "71d9d55f-93d0-417d-923e-f9ea61353061",
   "metadata": {},
   "outputs": [
    {
     "name": "stderr",
     "output_type": "stream",
     "text": [
      "C:\\Users\\jhr\\AppData\\Local\\Temp\\ipykernel_23320\\1474951417.py:5: SettingWithCopyWarning: \n",
      "A value is trying to be set on a copy of a slice from a DataFrame.\n",
      "Try using .loc[row_indexer,col_indexer] = value instead\n",
      "\n",
      "See the caveats in the documentation: https://pandas.pydata.org/pandas-docs/stable/user_guide/indexing.html#returning-a-view-versus-a-copy\n",
      "  small_environment[\"domain\"] = small_environment[\"data.url\"].apply(parse_url)\n"
     ]
    },
    {
     "data": {
      "text/plain": [
       "www.reddit.com             7\n",
       "www.theguardian.com        5\n",
       "www.commondreams.org       4\n",
       "biologicaldiversity.org    4\n",
       "thehill.com                3\n",
       "www.nytimes.com            3\n",
       "electrek.co                2\n",
       "www.independent.co.uk      2\n",
       "news.trust.org             2\n",
       "www.bbc.co.uk              2\n",
       "Name: domain, dtype: int64"
      ]
     },
     "execution_count": 6,
     "metadata": {},
     "output_type": "execute_result"
    }
   ],
   "source": [
    "# Exercise 2c Answer below here \n",
    "def parse_url(url: str) -> str:\n",
    "    return urlparse(url).netloc\n",
    "\n",
    "small_environment[\"domain\"] = small_environment[\"data.url\"].apply(parse_url)\n",
    "\n",
    "# most common domains\n",
    "small_environment[\"domain\"].value_counts().head(10)\n",
    "\n",
    "# Exercise 2c Answer above here "
   ]
  },
  {
   "cell_type": "markdown",
   "id": "7f3b17f7-d9b2-40ff-b569-7a5184786f44",
   "metadata": {},
   "source": [
    "# Exercise 3. The love-hate relationship with DIKW\n",
    "\n",
    "As mentioned in the chapter, the Wikipedia entry for data had DIKW in the article, then it was removed, then it reappared! I think it is still there now. I did not do the editing of this. \n",
    "\n",
    "With the data export of the Wikipedia page on data (`Wikipedia - data - Special export - 2022-10-17_10_24_15.xml`): \n",
    "\n",
    "- **Exercise 3a**. Create a DataFrame where each revision of the Wikipedia article in the export is given its own row. \n",
    "- **Exercise 3b**. Search for the first time DIKW was mentioned and the last time it was mentioned. Try to find the gap? When did it appear? \n",
    "\n",
    "> **Hint**: Using `xmltodict` might be helpful for wrangling the XML data, but it might also make life complicated. Explore the data both through a text editor (or browser) and through code to get a sense of it. \n",
    "\n",
    "> **Hint**: It is admittedly a little easier to do this if you make use of time in your DataFrame. We do not cover that much until Chapter 10, but feel free to look ahead. You can still sort by revisionID and then just browse the data yourself. This will end up being one of those tasks that's not easy but gets easier with more skills of abstraction.  "
   ]
  },
  {
   "cell_type": "code",
   "execution_count": 7,
   "id": "544c55c4-5f10-4992-b11d-795d5eda84f0",
   "metadata": {},
   "outputs": [
    {
     "name": "stdout",
     "output_type": "stream",
     "text": [
      "       id                 timestamp  minor               comment     model  \\\n",
      "0  246479 2001-03-17 06:29:52+00:00    NaN                     *  wikitext   \n",
      "1  246480 2001-03-26 22:35:32+00:00    NaN                     *  wikitext   \n",
      "2   18191 2002-02-25 14:51:43+00:00    NaN  Automated conversion  wikitext   \n",
      "3   18192 2002-02-25 14:52:12+00:00    NaN          term in bold  wikitext   \n",
      "4   18817 2002-02-25 15:43:11+00:00    NaN     linking mass noun  wikitext   \n",
      "\n",
      "        format                             sha1 contributor.username  \\\n",
      "0  text/x-wiki  4bi0lqmoh3d6z1tv2dg3zfjaqt20fj3      208.245.214.xxx   \n",
      "1  text/x-wiki  lv1z2dzhms5ys77nfrgq58mem9ptdik       192.75.241.xxx   \n",
      "2  text/x-wiki  rtvjc8fo6z391pjlte9kw8e7wi02enn    Conversion script   \n",
      "3  text/x-wiki  1x390dickut12wma4fuy2eezu138o37                  NaN   \n",
      "4  text/x-wiki  gprvn7s0a4k8jrjcou6lq139xxv1hde                  NaN   \n",
      "\n",
      "  contributor.id text.@bytes text.@xml:space  \\\n",
      "0              0         542        preserve   \n",
      "1              0         559        preserve   \n",
      "2        1226483         556        preserve   \n",
      "3            NaN         565        preserve   \n",
      "4            NaN         569        preserve   \n",
      "\n",
      "                                          text.#text parentid  contributor.ip  \\\n",
      "0  The word <i>data</i> is the plural of <i>datum...      NaN             NaN   \n",
      "1  The word <i>data</i> is the plural of <i>datum...   246479             NaN   \n",
      "2  The word <i>data</i> is the plural of <i>datum...   246480             NaN   \n",
      "3  The word '''data''' is the plural of <i>datum<...    18191  213.253.40.156   \n",
      "4  The word '''data''' is the plural of <i>datum<...    18192  213.253.40.156   \n",
      "\n",
      "  contributor.@deleted  \n",
      "0                  NaN  \n",
      "1                  NaN  \n",
      "2                  NaN  \n",
      "3                  NaN  \n",
      "4                  NaN  \n"
     ]
    }
   ],
   "source": [
    "# Exercise 3a Answer below here\n",
    "wiki_path = next(data_dir.glob(\"*Wiki*.xml\"))\n",
    "\n",
    "# parse the xml file to dictionary\n",
    "import xmltodict\n",
    "with open(wiki_path, 'r', encoding=\"utf8\") as f:\n",
    "    wiki_dict = xmltodict.parse(f.read())\n",
    "\n",
    "wikidf = pd.json_normalize(wiki_dict[\"mediawiki\"][\"page\"][\"revision\"])\n",
    "wikidf[\"timestamp\"] = pd.to_datetime(wikidf[\"timestamp\"])\n",
    "print(wikidf.head())\n",
    "# EXercise 3a Answer above here"
   ]
  },
  {
   "cell_type": "code",
   "execution_count": 8,
   "id": "6abbdf59",
   "metadata": {},
   "outputs": [
    {
     "data": {
      "text/html": [
       "<div>\n",
       "<style scoped>\n",
       "    .dataframe tbody tr th:only-of-type {\n",
       "        vertical-align: middle;\n",
       "    }\n",
       "\n",
       "    .dataframe tbody tr th {\n",
       "        vertical-align: top;\n",
       "    }\n",
       "\n",
       "    .dataframe thead th {\n",
       "        text-align: right;\n",
       "    }\n",
       "</style>\n",
       "<table border=\"1\" class=\"dataframe\">\n",
       "  <thead>\n",
       "    <tr style=\"text-align: right;\">\n",
       "      <th></th>\n",
       "      <th>timestamp</th>\n",
       "      <th>text.#text</th>\n",
       "    </tr>\n",
       "  </thead>\n",
       "  <tbody>\n",
       "    <tr>\n",
       "      <th>0</th>\n",
       "      <td>2001-03-17 06:29:52+00:00</td>\n",
       "      <td>The word &lt;i&gt;data&lt;/i&gt; is the plural of &lt;i&gt;datum...</td>\n",
       "    </tr>\n",
       "    <tr>\n",
       "      <th>1</th>\n",
       "      <td>2001-03-26 22:35:32+00:00</td>\n",
       "      <td>The word &lt;i&gt;data&lt;/i&gt; is the plural of &lt;i&gt;datum...</td>\n",
       "    </tr>\n",
       "    <tr>\n",
       "      <th>2</th>\n",
       "      <td>2002-02-25 14:51:43+00:00</td>\n",
       "      <td>The word &lt;i&gt;data&lt;/i&gt; is the plural of &lt;i&gt;datum...</td>\n",
       "    </tr>\n",
       "    <tr>\n",
       "      <th>3</th>\n",
       "      <td>2002-02-25 14:52:12+00:00</td>\n",
       "      <td>The word '''data''' is the plural of &lt;i&gt;datum&lt;...</td>\n",
       "    </tr>\n",
       "    <tr>\n",
       "      <th>4</th>\n",
       "      <td>2002-02-25 15:43:11+00:00</td>\n",
       "      <td>The word '''data''' is the plural of &lt;i&gt;datum&lt;...</td>\n",
       "    </tr>\n",
       "  </tbody>\n",
       "</table>\n",
       "</div>"
      ],
      "text/plain": [
       "                  timestamp                                         text.#text\n",
       "0 2001-03-17 06:29:52+00:00  The word <i>data</i> is the plural of <i>datum...\n",
       "1 2001-03-26 22:35:32+00:00  The word <i>data</i> is the plural of <i>datum...\n",
       "2 2002-02-25 14:51:43+00:00  The word <i>data</i> is the plural of <i>datum...\n",
       "3 2002-02-25 14:52:12+00:00  The word '''data''' is the plural of <i>datum<...\n",
       "4 2002-02-25 15:43:11+00:00  The word '''data''' is the plural of <i>datum<..."
      ]
     },
     "execution_count": 8,
     "metadata": {},
     "output_type": "execute_result"
    }
   ],
   "source": [
    "wikidf[[\"timestamp\", \"text.#text\"]].head()"
   ]
  },
  {
   "cell_type": "code",
   "execution_count": 9,
   "id": "0e944014",
   "metadata": {},
   "outputs": [
    {
     "data": {
      "text/plain": [
       "Timestamp('2010-05-14 22:59:49+0000', tz='UTC')"
      ]
     },
     "execution_count": 9,
     "metadata": {},
     "output_type": "execute_result"
    }
   ],
   "source": [
    "wikidf[\"timestamp\"].max()"
   ]
  },
  {
   "cell_type": "code",
   "execution_count": 10,
   "id": "fb4d4201-a466-4fe1-9e35-0a29c43cd795",
   "metadata": {},
   "outputs": [
    {
     "name": "stdout",
     "output_type": "stream",
     "text": [
      "Earliest timestamp: 2005-08-25 06:17:15+00:00\n",
      "Latest timestamp: 2005-11-23 21:37:48+00:00\n",
      "Total duration: 90 days\n",
      "DIKW was removed on the following dates: ['2005-11-04', '2005-11-24']\n"
     ]
    }
   ],
   "source": [
    "# Exercise 3b Answer below here\n",
    "dikwdf = wikidf[[\"timestamp\", \"text.#text\"]].dropna().rename(columns={\"text.#text\": \"text\"})\n",
    "dikwdf.dropna(inplace=True)\n",
    "\n",
    "smalldikwdf = dikwdf[dikwdf[\"text\"].str.contains(\"dikw\", na=False, case=False)]\n",
    "\n",
    "\n",
    "# earliest timestamp\n",
    "earliest_stamp = smalldikwdf[\"timestamp\"].min()\n",
    "\n",
    "# latest timestamp\n",
    "latest_stamp = smalldikwdf[\"timestamp\"].max()\n",
    "\n",
    "# time difference in days\n",
    "time_diff = (latest_stamp - earliest_stamp).days\n",
    "\n",
    "# Find the dates where the word was removed\n",
    "has_dikw = dikwdf[\"text\"].str.contains(\"dikw\", na=False, case=False)\n",
    "dikw_removed = ~has_dikw & has_dikw.shift(1, fill_value=False)\n",
    "dikw_removed_dates = dikwdf.loc[dikw_removed, \"timestamp\"].dt.strftime(\"%Y-%m-%d\").tolist()\n",
    "\n",
    "print(f\"Earliest timestamp: {earliest_stamp}\\nLatest timestamp: {latest_stamp}\\nTotal duration: {time_diff} days\\nDIKW was removed on the following dates: {dikw_removed_dates}\")\n",
    "\n",
    "# EXercise 3b Answer above here"
   ]
  }
 ],
 "metadata": {
  "kernelspec": {
   "display_name": "Python 3.9.13 ('sdspython')",
   "language": "python",
   "name": "python3"
  },
  "language_info": {
   "codemirror_mode": {
    "name": "ipython",
    "version": 3
   },
   "file_extension": ".py",
   "mimetype": "text/x-python",
   "name": "python",
   "nbconvert_exporter": "python",
   "pygments_lexer": "ipython3",
   "version": "3.9.13"
  },
  "vscode": {
   "interpreter": {
    "hash": "60612d6d4782d833a44515694e4bccfae5bb8e3209e7562cc1fda167f2433927"
   }
  }
 },
 "nbformat": 4,
 "nbformat_minor": 5
}
